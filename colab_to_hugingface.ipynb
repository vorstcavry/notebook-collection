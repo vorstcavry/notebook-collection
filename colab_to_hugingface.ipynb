{
  "cells": [
    {
      "cell_type": "markdown",
      "metadata": {
        "id": "view-in-github",
        "colab_type": "text"
      },
      "source": [
        "<a href=\"https://colab.research.google.com/github/vorstcavry/notebook-collection/blob/https%2Fgithub.com%2Fvorstcavry/colab_to_hugingface.ipynb\" target=\"_parent\"><img src=\"https://colab.research.google.com/assets/colab-badge.svg\" alt=\"Open In Colab\"/></a>"
      ]
    },
    {
      "cell_type": "markdown",
      "source": [
        "\n",
        "# Open Civitai Website\n",
        "\n"
      ],
      "metadata": {
        "id": "24BUjpKtyuSz"
      }
    },
    {
      "cell_type": "code",
      "execution_count": null,
      "metadata": {
        "colab": {
          "base_uri": "https://localhost:8080/",
          "height": 502
        },
        "id": "A7i4BTlxKDG1",
        "outputId": "693c24a8-4ac8-4a65-9222-d27e1de45cdb",
        "cellView": "form"
      },
      "outputs": [
        {
          "output_type": "display_data",
          "data": {
            "text/plain": [
              "<IPython.core.display.HTML object>"
            ],
            "text/html": [
              "\n",
              "<!DOCTYPE html>\n",
              "<html>\n",
              "<body>\n",
              "    <a href=\"https://civitai.com/?view=feed\"><h1>CIVIT.AI</h1></a>\n",
              "    <h1>.</h1>\n",
              "    <h1>.</h1>\n",
              "    <h1>.</h1>\n",
              "    <h1>.</h1>\n",
              "    <h1>.</h1>\n",
              "    <h1>.</h1>\n",
              "    <h1>.</h1>\n",
              "    <h1>.</h1>\n",
              "</body>\n",
              "</html>\n"
            ]
          },
          "metadata": {}
        }
      ],
      "source": [
        "#@title ## <font color=\"#FFD700\">**_Buka Civitai melalui google colab_**</font>\n",
        "# @markdown buka web dengan sekali klik\n",
        "\n",
        "# @markdown <B>[TEKAN TULISAN CIVIT.AI]\n",
        "\n",
        "%%html\n",
        "\n",
        "<!DOCTYPE html>\n",
        "<html>\n",
        "<body>\n",
        "    <a href=\"https://civitai.com/?view=feed\"><h1>CIVIT.AI</h1></a>\n",
        "    <h1>.</h1>\n",
        "    <h1>.</h1>\n",
        "    <h1>.</h1>\n",
        "    <h1>.</h1>\n",
        "    <h1>.</h1>\n",
        "    <h1>.</h1>\n",
        "    <h1>.</h1>\n",
        "    <h1>.</h1>\n",
        "</body>\n",
        "</html>"
      ]
    },
    {
      "cell_type": "markdown",
      "source": [
        "#Open File Explorer"
      ],
      "metadata": {
        "id": "vBXYZhd7NNu9"
      }
    },
    {
      "cell_type": "code",
      "execution_count": null,
      "metadata": {
        "cellView": "form",
        "id": "ZmIRAxgEQESm"
      },
      "outputs": [],
      "source": [
        "# @title ## File Explorer\n",
        "# @markdown Fill in the check below so that it can run normally\n",
        "\n",
        "import os\n",
        "import threading\n",
        "from google.colab import output\n",
        "from imjoy_elfinder.app import main\n",
        "from tqdm import tqdm\n",
        "\n",
        "packages = [\n",
        "            \"pip install imjoy_elfinder\"\n",
        "            ]\n",
        "for install in tqdm(packages, desc=print(\"Tunggu Sebentar...\")):\n",
        "    os.system(install)\n",
        "root_dir = \"/content\"\n",
        "\n",
        "open_in_new_tab = True  # @param {type:\"boolean\"}\n",
        "\n",
        "def start_file_explorer(root_dir=root_dir, port=8765):\n",
        "    try:\n",
        "        main([\"--root-dir=\" + root_dir, \"--port=\" + str(port)])\n",
        "    except Exception as e:\n",
        "        print(\"Error starting file explorer:\", str(e))\n",
        "\n",
        "\n",
        "def open_file_explorer(open_in_new_tab=False, root_dir=root_dir, port=8765):\n",
        "    thread = threading.Thread(target=start_file_explorer, args=[root_dir, port])\n",
        "    thread.start()\n",
        "\n",
        "    if open_in_new_tab:\n",
        "        output.serve_kernel_port_as_window(port)\n",
        "    else:\n",
        "        output.serve_kernel_port_as_iframe(port, height=\"500\")\n",
        "\n",
        "open_file_explorer(open_in_new_tab=open_in_new_tab, root_dir=root_dir, port=8765)\n"
      ]
    },
    {
      "cell_type": "markdown",
      "metadata": {
        "id": "ft8A9FPV3iTy"
      },
      "source": [
        "# Setup and Run Batchlinks\n"
      ]
    },
    {
      "cell_type": "code",
      "execution_count": null,
      "metadata": {
        "id": "UwpnyYKM32bA",
        "outputId": "25667bce-928d-43a9-9bc0-169dca4f6a62",
        "colab": {
          "base_uri": "https://localhost:8080/"
        }
      },
      "outputs": [
        {
          "output_type": "stream",
          "name": "stdout",
          "text": [
            "Tunggu Sebentar...\n"
          ]
        },
        {
          "output_type": "stream",
          "name": "stderr",
          "text": [
            "100%|██████████| 1/1 [00:06<00:00,  6.38s/it]"
          ]
        },
        {
          "output_type": "stream",
          "name": "stdout",
          "text": [
            "fatal: destination path '/content/vorstcavry/extensions/batchlinks-webui' already exists and is not an empty directory.\n"
          ]
        },
        {
          "output_type": "stream",
          "name": "stderr",
          "text": [
            "\n"
          ]
        },
        {
          "output_type": "stream",
          "name": "stdout",
          "text": [
            "Running on local URL:  http://127.0.0.1:7860\n",
            "Running on public URL: https://b30fa51a-03cf-437f.gradio.live\n",
            "\n",
            "This share link expires in 72 hours. For free permanent hosting and GPU upgrades (NEW!), check out Spaces: https://huggingface.co/spaces\n"
          ]
        }
      ],
      "source": [
        "#@title Install and run\n",
        "import os\n",
        "from tqdm import tqdm\n",
        "\n",
        "packages = [\n",
        "            \"pip install gradio==3.16.2\",\n",
        "#            \"pip install imjoy_elfinder\"\n",
        "            ]\n",
        "for install in tqdm(packages, desc=print(\"Tunggu Sebentar...\")):\n",
        "    os.system(install)\n",
        "#@markdown\n",
        "#root_dir = \"/content\"\n",
        "\n",
        "#import os\n",
        "#import threading\n",
        "#from google.colab import output\n",
        "#from imjoy_elfinder.app import main\n",
        "#root_dir = \"/content\"\n",
        "#open_in_new_tab = True  # @param {type:\"boolean\"}\n",
        "\n",
        "#def start_file_explorer(root_dir=root_dir, port=8765):\n",
        "#    try:\n",
        "#        main([\"--root-dir=\" + root_dir, \"--port=\" + str(port)])\n",
        "#    except Exception as e:\n",
        "#        print(\"Error starting file explorer:\", str(e))\n",
        "\n",
        "\n",
        "#def open_file_explorer(open_in_new_tab=False, root_dir=root_dir, port=8765):\n",
        "#    thread = threading.Thread(target=start_file_explorer, args=[root_dir, port])\n",
        "#    thread.start()\n",
        "#\n",
        "#    if open_in_new_tab:\n",
        "#        output.serve_kernel_port_as_window(port)\n",
        "#    else:\n",
        "#        output.serve_kernel_port_as_iframe(port, height=\"500\")\n",
        "\n",
        "#open_file_explorer(open_in_new_tab=open_in_new_tab, root_dir=root_dir, port=8765)\n",
        "\n",
        "!git clone https://github.com/etherealxx/batchlinks-webui /content/vorstcavry/extensions/batchlinks-webui\n",
        "!python /content/vorstcavry/extensions/batchlinks-webui/scripts/batchlinks-downloader.py"
      ]
    },
    {
      "cell_type": "code",
      "execution_count": null,
      "metadata": {
        "cellView": "form",
        "id": "ugIxCR6C4Heg"
      },
      "outputs": [],
      "source": [
        "#@title Run\n",
        "\n",
        "!python /content/vorstcavry/extensions/batchlinks-webui/scripts/batchlinks-downloader.py"
      ]
    },
    {
      "cell_type": "markdown",
      "metadata": {
        "id": "l_lpzB4fbmDZ"
      },
      "source": [
        "# Uploading to HuggingFace\n",
        "\n",
        "inspired by [NoCrypt](https://colab.research.google.com/drive/1wEa-tS10h4LlDykd87TF5zzpXIIQoCmq#scrollTo=EzbWAsEc2bAt)"
      ]
    },
    {
      "cell_type": "code",
      "execution_count": null,
      "metadata": {
        "id": "2Mc0BHmRcNlF",
        "cellView": "form"
      },
      "outputs": [],
      "source": [
        "#@title 1. Login to Huggingface hub\n",
        "try:\n",
        "  hub_ok\n",
        "except:\n",
        "  print(\"Setting up huggingface_hub...\")\n",
        "  !pip install --force-reinstall -qqqq huggingface_hub\n",
        "  hub_ok = True\n",
        "from IPython.display import clear_output\n",
        "from huggingface_hub import login\n",
        "clear_output()\n",
        "\n",
        "#@markdown 1. Of course, you need a Huggingface account first.\n",
        "#@markdown 2. To create a huggingface token, go to [this link](https://huggingface.co/settings/tokens), then `create new token` or copy available token with the `Write` role.\n",
        "\n",
        "write_token = \"\" #@param {type:\"string\"}\n",
        "login(write_token, add_to_git_credential=True)"
      ]
    },
    {
      "cell_type": "code",
      "execution_count": null,
      "metadata": {
        "cellView": "form",
        "id": "6cO3Eks_cau5"
      },
      "outputs": [],
      "source": [
        "#@title 2. Setup Repo\n",
        "from huggingface_hub.utils import validate_repo_id, HfHubHTTPError\n",
        "from huggingface_hub import HfApi\n",
        "\n",
        "api = HfApi()\n",
        "user = api.whoami(write_token)\n",
        "\n",
        "#@markdown #### If your model repo didn't exist, it will automatically create your repo.\n",
        "repo_name = \"my-model-repo\" #@param{type:\"string\"}\n",
        "make_this_repo_private_if_not_exist = True #@param{type:\"boolean\"}\n",
        "\n",
        "if \"/\" in repo_name:\n",
        "  model_repo = repo_name.strip()\n",
        "else:\n",
        "  model_repo = user['name']+\"/\"+repo_name.strip()\n",
        "\n",
        "validate_repo_id(model_repo)\n",
        "\n",
        "if repo_name != \"\":\n",
        "  try:\n",
        "      api.create_repo(repo_id=model_repo,\n",
        "                      private=make_this_repo_private_if_not_exist)\n",
        "      print(\"Model Repo didn't exists, creating repo\")\n",
        "      print(\"Model Repo: \",model_repo,\"created!\\n\")\n",
        "\n",
        "  except HfHubHTTPError as e:\n",
        "      print(f\"Model Repo: {model_repo} exists, skipping create repo\\n\")"
      ]
    },
    {
      "cell_type": "code",
      "execution_count": null,
      "metadata": {
        "cellView": "form",
        "id": "y1AN228rdFW-"
      },
      "outputs": [],
      "source": [
        "#@title 3.2 Upload via huggingface_hub (Manual way)\n",
        "\n",
        "#@markdown All paths for easier access:<br>\n",
        "#@markdown /content/vorstcavry/models/Stable-diffusion<br>\n",
        "#@markdown /content/vorstcavry/models/VAE<br>\n",
        "#@markdown /content/vorstcavry/models/Lora<br>\n",
        "#@markdown /content/vorstcavry/embeddings<br>\n",
        "#@markdown /content/vorstcavry/models/hypernetwork<br>\n",
        "\n",
        "from huggingface_hub import HfApi\n",
        "from pathlib import Path\n",
        "\n",
        "api = HfApi()\n",
        "file_path = \"/content/my-awesome-model.safetensors\" #@param {type :\"string\"}\n",
        "#@markdown Leave this blank if you just want to upload it to the repo, dont leave a trailing \"`/`\" at the end!\n",
        "path_in_repo = \"\" #@param {type :\"string\"}\n",
        "#@markdown Leaving this blank auto fill the commit message with a generic one\n",
        "commit_message = \"\" #@param {type :\"string\"}\n",
        "\n",
        "if file_path != \"\":\n",
        "  path_obj = Path(file_path)\n",
        "  model = path_obj.parts[-1]\n",
        "\n",
        "  if path_in_repo == \"\":\n",
        "    trained_model = model\n",
        "  else:\n",
        "    trained_model = path_in_repo.strip() + \"/\" + model\n",
        "\n",
        "  print(f\"Uploading {model} to https://huggingface.co/\"+model_repo)\n",
        "  print(f\"Please wait...\")\n",
        "\n",
        "  if commit_message == \"\":\n",
        "    commit_message = f\"Upload {model}\"\n",
        "\n",
        "  api.upload_file(\n",
        "      path_or_fileobj=file_path,\n",
        "      path_in_repo=trained_model,\n",
        "      repo_id=model_repo,\n",
        "      commit_message=commit_message,\n",
        "  )\n",
        "\n",
        "  print(f\"Upload success, located at https://huggingface.co/\"+model_repo+\"/blob/main/\"+trained_model+\"\\n\")"
      ]
    }
  ],
  "metadata": {
    "colab": {
      "collapsed_sections": [
        "ft8A9FPV3iTy"
      ],
      "provenance": [],
      "include_colab_link": true
    },
    "gpuClass": "standard",
    "kernelspec": {
      "display_name": "Python 3",
      "name": "python3"
    },
    "language_info": {
      "name": "python"
    }
  },
  "nbformat": 4,
  "nbformat_minor": 0
}